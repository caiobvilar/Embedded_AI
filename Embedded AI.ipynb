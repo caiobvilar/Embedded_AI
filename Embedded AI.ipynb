{
 "cells": [
  {
   "cell_type": "markdown",
   "id": "78b2d3b1",
   "metadata": {},
   "source": [
    "# What is Machine Learning?\n",
    "\n",
    "* Machine Learning is the field of study that gives computers the ability to learn from data, without being explicitly programmed.\n",
    "* It's good for:\n",
    "    * Problems for which existing solutions require a lot of fune-tuning or long lists of rules;\n",
    "    * Complex problems for which traditional approaches yields no good solution;\n",
    "    * Fluctuating environments: ML systems can adapt to new data;\n",
    "    * Getting insights about complex problems and large amounts of data."
   ]
  },
  {
   "cell_type": "markdown",
   "id": "67295023",
   "metadata": {},
   "source": [
    "## Types of ML Systems\n",
    "\n",
    "* Whether or not they are trained with human supervision:\n",
    "    * Supervised Learning;\n",
    "    * Unsupervised Learning;\n",
    "    * Semisupervised Learning;\n",
    "    * Reinforcement Learning.\n",
    "* Whether or not they can learn incrementally on the fly:\n",
    "    * Online Learning;\n",
    "    * Batch Learning.\n",
    "* Whether or not they work by simply comparing new data points to known data points, or if they detect patterns in the training data and building a predictive model;\n",
    "* Those points above are not exclusive and can be combined to classify models."
   ]
  },
  {
   "cell_type": "markdown",
   "id": "e9f27bbd",
   "metadata": {},
   "source": [
    "### Supervised Learning\n",
    "\n",
    "In supervised the data fed to the algorithm is divided into Training set and Test set with the desired solutions, called *labels*. Common applications are *classification* and *regression*.\n",
    "* Most important/common supervised learning algorithms are:\n",
    "    * k-Nearest Neighbors (KNN);\n",
    "    * Linear Regression;\n",
    "    * Logistic Regression;\n",
    "    * Support Vector Machines (SVMs);\n",
    "    * Decisition Trees & Random Forests;\n",
    "    * Neural Networks"
   ]
  },
  {
   "cell_type": "markdown",
   "id": "cd5393c7",
   "metadata": {},
   "source": [
    "### Unsupervised Learning\n",
    "\n",
    "In this category, the data is unlabeled and the ML system tries to learn patterns without a teacher.\n",
    "* Most common/important supervised learning algorithms:\n",
    "    * Clustering;\n",
    "    * k-Means;\n",
    "    * DBSCAN;\n",
    "    * Hierarchical Cluster Analysis (HCA);\n",
    "    * Anomaly Detection and Novelty Detection;\n",
    "    * One-Class SVM;\n",
    "    * Isolation Forest;\n",
    "    * Visualization and Dimensionality Reduction;\n",
    "    * Principal Component Analysis (PCA);\n",
    "    * Kernel PCA;\n",
    "    * Locally Linear Embedding (LLE);\n",
    "    * t-Distributed Stochastic Neighbor Embedding (t-SNE);\n",
    "    * Association Rule Learning;\n",
    "    * Apriori;\n",
    "    * Eclat"
   ]
  },
  {
   "cell_type": "markdown",
   "id": "a8d5ffe9",
   "metadata": {},
   "source": [
    "### Reinforcement Learning\n",
    "\n",
    "This classification is quite different from the others before it. The learning system is denominated an *agent* that can observe the *environment*, select and perform *actions* and get *rewards/penalties*. It must then learn by itself what is the best strategy, called a *policy* to get the most rewards over time. A *policy* defines what *action/actions* the *agent* should choose when in a given *situation/environment*.\n"
   ]
  },
  {
   "cell_type": "markdown",
   "id": "2743001e",
   "metadata": {},
   "source": [
    "### Batch Learning\n",
    "\n",
    "In this type of learning, the system does not learn incrementally, it must be trained using all the available data. This usually takes a lot of time and resources and its tipically done offline. The system is trained offline and then its launched into production and runs without learning, just inference. This is often called *offline learning*."
   ]
  },
  {
   "cell_type": "markdown",
   "id": "6c89764f",
   "metadata": {},
   "source": [
    "### Online Learning\n",
    "\n",
    "In online learning, you train the system incrementally by feeding it data instances sequentially, either individually or in ssmall groups called *mini-batches*. Each learning step is fast and cheap, so the system can learn about new data on the fly, as it arrives.\n",
    "* Applications:\n",
    "    * Systems that receive data as a continuous flow (e.g., stock prices) and need to adapt to change rapidly or autonomously;\n",
    "    * Also good option if you have limited computing resources: once an online learning system has learned about new data instances, it doesn't need them anymore, so you can discard them (unless you want to be able to rollback to a previous state and \"replay\" the data). This can save a huge amount of sapce;\n",
    "    * Train systems on huge datasets that cannot fit in one machine's main memory (this is called *out-of-core* learning). The algorithm loads part of the data, runs a training step on that data, and repeats the process until it has run on all of the data.\n",
    "\n",
    "One important parameter of online learning systems is how fast they should adapt to changing data: this is called the *learning rate*. If you se a high learning rate, then the system will rapidly adapt to new data, but will also tend to forget old data quickly. Also, if you set a low learning rate, the system will learn more slowly, but it will also be less sensitive to noise in the new data or to sequences of nonrepresentative data points (outliers)."
   ]
  },
  {
   "cell_type": "markdown",
   "id": "790901cf",
   "metadata": {},
   "source": [
    "### Instance-based vs. Model-based learning\n",
    "\n",
    "Another way to categorize ML systems is by how they *generalize*. Since most ML systems are about making predictions, this means that given a number of training examples, the system needs to be able to make good predictions for (generalize to) examples it has never seen before. Having a good performance measure on the training data is good, but insufficient; the true goal is to perform well on new instances. There are two main approaches to generalization: instance-based and model-based learning."
   ]
  },
  {
   "cell_type": "markdown",
   "id": "fef282dc",
   "metadata": {},
   "source": [
    "### Instance-based learning\n",
    "\n",
    "The system learns the examples \"by heart\", then generalizes to new cases by using a similarity measure to compare them to the learned examples (or a subset of them).\n",
    "\n",
    "### Model-based learning\n",
    "\n",
    "Another way is to generalize from a set of examples is to build a model of these examples and then use that model to make *predictions*. This is called *model-based learning* "
   ]
  },
  {
   "cell_type": "markdown",
   "id": "01b10dac",
   "metadata": {},
   "source": [
    "### Training and running a linear model using Scikit-Learn\n"
   ]
  },
  {
   "cell_type": "code",
   "execution_count": 10,
   "id": "aa86ecf0",
   "metadata": {},
   "outputs": [],
   "source": [
    "import matplotlib.pyplot as plt\n",
    "import numpy as np\n",
    "import pandas as pd\n",
    "import os\n",
    "import sklearn.linear_model\n",
    "\n",
    "# Load the data\n",
    "#print(os.getcwd())\n",
    "oecd_bli = pd.read_csv(\"datasets/oecd_bli_2015.csv\",thousands=',')\n",
    "gpd_per_capita = pd.read_csv(\"datasets/gdp_per_capita.csv\",thousands=',',delimiter='\\t',encoding='latin1',na_values=\"n/a\")"
   ]
  },
  {
   "cell_type": "markdown",
   "id": "d71c962b",
   "metadata": {},
   "source": [
    "### "
   ]
  }
 ],
 "metadata": {
  "kernelspec": {
   "display_name": "embedded_ai-env",
   "language": "python",
   "name": "embedded_ai-env"
  },
  "language_info": {
   "codemirror_mode": {
    "name": "ipython",
    "version": 3
   },
   "file_extension": ".py",
   "mimetype": "text/x-python",
   "name": "python",
   "nbconvert_exporter": "python",
   "pygments_lexer": "ipython3",
   "version": "3.8.10"
  }
 },
 "nbformat": 4,
 "nbformat_minor": 5
}
